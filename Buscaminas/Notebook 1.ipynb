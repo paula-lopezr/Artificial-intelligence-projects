{
 "cells": [
  {
   "cell_type": "markdown",
   "metadata": {},
   "source": [
    "# Proyecto 2: Buscaminas\n",
    "### Estudiantes: Diana Valentina Caro & Paula Lorena López."
   ]
  },
  {
   "cell_type": "code",
   "execution_count": 1,
   "metadata": {
    "cell_id": "e55bf80aea7f45bcaf85fc2f04ad29d3",
    "deepnote_cell_type": "code",
    "deepnote_to_be_reexecuted": false,
    "execution_millis": 2060,
    "execution_start": 1666663401662,
    "source_hash": "f255d0f1",
    "tags": []
   },
   "outputs": [],
   "source": [
    "from buscaminas import *\n",
    "import numpy as np\n",
    "from itertools import combinations\n",
    "from logica import *"
   ]
  },
  {
   "cell_type": "markdown",
   "metadata": {},
   "source": [
    "Definimos el objeto de Buscaminas inicial como `bs`."
   ]
  },
  {
   "cell_type": "code",
   "execution_count": 2,
   "metadata": {
    "cell_id": "b4459fedc06f4becaec28a8003e9982c",
    "deepnote_cell_type": "code",
    "deepnote_to_be_reexecuted": false,
    "execution_millis": 1,
    "execution_start": 1666663403727,
    "source_hash": "cf81fc07",
    "tags": []
   },
   "outputs": [],
   "source": [
    "bs = Buscaminas()"
   ]
  },
  {
   "cell_type": "markdown",
   "metadata": {
    "cell_id": "4e250aacda8847eabcc32b9186d05a7a",
    "deepnote_cell_type": "text-cell-h2",
    "formattedRanges": [],
    "is_collapsed": false,
    "tags": []
   },
   "source": [
    "## Definición de reglas de manera informal"
   ]
  },
  {
   "cell_type": "markdown",
   "metadata": {},
   "source": [
    "Al ejecutar un buscaminas, se debe considerar primero la ubicación en donde se encuentra la casilla que estamos considerando. Es decir, la ubicación de la casilla nos proveerá los posibles movimientos dependiendo del valor del que estemos hablando. \n",
    "\n",
    "\n",
    "Esto se hace con el fin de despejar las casillas en las que no hay bombas y encontar en cuales están las bombas.\n",
    "\n",
    "De esta manera, consideremos el tablero de un buscaminas báscia $8\\times8$.\n",
    "Podemos evidenciar el tablero en la siguiente matriz.\n",
    "\n",
    "Cada posición de la matriz es correspondiente a cada casilla del buscaminas. El valor que tiene cada posición de la matriz, corresponde a la cantidad de adyacentes que tiene. Es decir, el valor corresponde a la cantidad máxima que puede tener esa casilla. "
   ]
  },
  {
   "cell_type": "code",
   "execution_count": 3,
   "metadata": {
    "cell_id": "1c5d537be11d4cafabb6aff9fc6d34bf",
    "deepnote_cell_type": "code",
    "deepnote_to_be_reexecuted": false,
    "execution_millis": 4,
    "execution_start": 1666663403744,
    "scrolled": true,
    "source_hash": "3faaf060",
    "tags": []
   },
   "outputs": [
    {
     "data": {
      "text/plain": [
       "array([[3., 5., 5., 5., 5., 5., 5., 3.],\n",
       "       [5., 8., 8., 8., 8., 8., 8., 5.],\n",
       "       [5., 8., 8., 8., 8., 8., 8., 5.],\n",
       "       [5., 8., 8., 8., 8., 8., 8., 5.],\n",
       "       [5., 8., 8., 8., 8., 8., 8., 5.],\n",
       "       [5., 8., 8., 8., 8., 8., 8., 5.],\n",
       "       [5., 8., 8., 8., 8., 8., 8., 5.],\n",
       "       [3., 5., 5., 5., 5., 5., 5., 3.]])"
      ]
     },
     "execution_count": 3,
     "metadata": {},
     "output_type": "execute_result"
    }
   ],
   "source": [
    "tablero = np.zeros((8,8))\n",
    "sz = 8\n",
    "u = sz-1\n",
    "for x in range(sz):\n",
    "    for y in range(sz):\n",
    "        if (x==0 and y==0) or (x==0 and y==u) or (x==u and y==0) or (x==u and y==u):\n",
    "            tablero[x,y] = 3\n",
    "        elif (x==0 and (y!=0 or y!=u)) or (x==u and (y!=0 or y!=u)) or (y==0 and (x!=0 and x!=u)) or (y==u and (x!=0 or x!=u)):\n",
    "            tablero[x,y] = 5\n",
    "        else:\n",
    "            tablero[x,y] = 8\n",
    "\n",
    "tablero"
   ]
  },
  {
   "cell_type": "markdown",
   "metadata": {},
   "source": [
    "Sin embargo, lo que determina la cantidad de bombas que hay es el valor que tiene la casilla. Es decir, si la casilla tiene el número 2, dentro del grupo de sus adyacentes hay 2 casillas con bombas. "
   ]
  },
  {
   "cell_type": "markdown",
   "metadata": {},
   "source": [
    "De esta manera, creamos la primera regla: \n",
    "* Si la casilla (x, y) tiene n minas alrededor, entonces en las casillas adyacentes $c_1, ..., c_n$  hay bombas."
   ]
  },
  {
   "cell_type": "markdown",
   "metadata": {},
   "source": [
    "Para una mejor explicación, se creó una función que recibe como parámetro una coordenada de una casilla cualquiera.\n",
    "Esta considera el valor que tiene y retorna las ubicaciones en términos coordernadas de las posibles minas."
   ]
  },
  {
   "cell_type": "code",
   "execution_count": 4,
   "metadata": {
    "cell_id": "fae0a112d886422ca82ffda9739c070d",
    "deepnote_cell_type": "code",
    "deepnote_to_be_reexecuted": false,
    "execution_millis": 0,
    "execution_start": 1666663403781,
    "source_hash": "75f7030",
    "tags": []
   },
   "outputs": [],
   "source": [
    "def options(x, y):\n",
    "    num = bs.tablero[x][y].valor\n",
    "    if num == -1:\n",
    "        print(f'En ({x}, {y}) está la mina')\n",
    "    elif num == 0:\n",
    "        print(f'En ({x}, {y}) es seguro')\n",
    "    else:\n",
    "        \"\"\"esquinas\"\"\"\n",
    "        lst = []\n",
    "        if (x==0 and y==0):\n",
    "            acciones = [(x+1,y), (x+1, y+1), (x, y+1)]\n",
    "            temp = combinations(acciones, num)\n",
    "            for i in list(temp):\n",
    "                lst.append(i)\n",
    "            print(f'Para la casilla ({x}, {y}) hay {num} minas. Los posibles lugares donde pueden estar son en {lst}')\n",
    "        elif (x==0 and y==u):\n",
    "            acciones = [(x, y-1), (x+1, y-1), (x+1, y+1)]\n",
    "            temp = combinations(acciones, num)\n",
    "            for i in list(temp):\n",
    "                lst.append(i)\n",
    "            print(f'Para la casilla ({x}, {y}) hay {num} minas. Los posibles lugares donde pueden estar son en {lst}')\n",
    "        elif (x==u and y==0):\n",
    "            acciones = [(x-1, y), (x-1, y+1), (x, y+1)]\n",
    "            temp = combinations(acciones, num)\n",
    "            for i in list(temp):\n",
    "                lst.append(i)\n",
    "            print(f'Para la casilla ({x}, {y}) hay {num} minas. Los posibles lugares donde pueden estar son en {lst}')\n",
    "        elif (x==u and y==u):\n",
    "            acciones = [(x,y-1), (x-1, y-1), (x-1, y)]\n",
    "            temp = combinations(acciones, num)\n",
    "            for i in list(temp):\n",
    "                lst.append(i)\n",
    "            print(f'Para la casilla ({x}, {y}) hay {num} minas. Los posibles lugares donde pueden estar son en {lst}')\n",
    "        elif (x==0 and (y!=0 or y!=u)):\n",
    "            acciones = [(x, y-1), (x-1, y-1), (x-1,y), (x-1, y+1), (x, y+1)]\n",
    "            temp = combinations(acciones, num)\n",
    "            for i in list(temp):\n",
    "                lst.append(i)\n",
    "            print(f'Para la casilla ({x}, {y}) hay {num} minas. Los posibles lugares donde pueden estar son en {lst}')\n",
    "#            bordes\n",
    "        elif (x==u and (y!=0 or y!=u)):\n",
    "            acciones = [(x, y-1), (x+1, y-1), (x+1,y), (x+1, y+1), (x, y+1)]\n",
    "            temp = combinations(acciones, num)\n",
    "            for i in list(temp):\n",
    "                lst.append(i)\n",
    "            print(f'Para la casilla ({x}, {y}) hay {num} minas. Los posibles lugares donde pueden estar son en {lst}')\n",
    "        elif (y==0 and (x!=0 and x!=u)):\n",
    "            acciones = [(x-1, y), (x-1, y+1), (x,y+1), (x+1, y+1), (x+1, y)]\n",
    "            temp = combinations(acciones, num)\n",
    "            for i in list(temp):\n",
    "                lst.append(i)\n",
    "            print(f'Para la casilla ({x}, {y}) hay {num} minas. Los posibles lugares donde pueden estar son en {lst}')\n",
    "        elif (y==u and (x!=0 or x!=u)):\n",
    "            acciones = [(x-1, y), (x-1, y-1), (x,y-1), (x+1, y-1), (x+1, y)]\n",
    "            temp = combinations(acciones, num)\n",
    "            for i in list(temp):\n",
    "                lst.append(i)\n",
    "            print(f'Para la casilla ({x}, {y}) hay {num} minas. Los posibles lugares donde pueden estar son en {lst}')\n",
    "        else:\n",
    "            acciones = [(x-1,y-1), (x-1, y), (x-1, y+1), (x, y+1), (x+1, y+1), (x+1, y), (x+1, y-1), (x+1, y-1)]\n",
    "            temp = combinations(acciones, num)\n",
    "            for i in list(temp):\n",
    "                lst.append(i)\n",
    "            print(f'Para la casilla ({x}, {y}) hay {num} minas. Los posibles lugares donde pueden estar son en {lst}')"
   ]
  },
  {
   "cell_type": "code",
   "execution_count": 5,
   "metadata": {},
   "outputs": [
    {
     "data": {
      "text/plain": [
       "<Axes:>"
      ]
     },
     "execution_count": 5,
     "metadata": {},
     "output_type": "execute_result"
    },
    {
     "data": {
      "image/png": "[encoded data removed]",
      "text/plain": [
       "<Figure size 240x240 with 1 Axes>"
      ]
     },
     "metadata": {},
     "output_type": "display_data"
    }
   ],
   "source": [
    "bs.pintar_todo()"
   ]
  },
  {
   "cell_type": "code",
   "execution_count": 7,
   "metadata": {
    "cell_id": "2a907e379b004b0ca024de04fc4c828a",
    "deepnote_cell_type": "code",
    "deepnote_to_be_reexecuted": false,
    "execution_millis": 6,
    "execution_start": 1666663403787,
    "scrolled": true,
    "source_hash": "7f1cee38",
    "tags": []
   },
   "outputs": [
    {
     "name": "stdout",
     "output_type": "stream",
     "text": [
      "Para la casilla (2, 2) hay 2 minas. Los posibles lugares donde pueden estar son en [((1, 1), (1, 2)), ((1, 1), (1, 3)), ((1, 1), (2, 3)), ((1, 1), (3, 3)), ((1, 1), (3, 2)), ((1, 1), (3, 1)), ((1, 1), (3, 1)), ((1, 2), (1, 3)), ((1, 2), (2, 3)), ((1, 2), (3, 3)), ((1, 2), (3, 2)), ((1, 2), (3, 1)), ((1, 2), (3, 1)), ((1, 3), (2, 3)), ((1, 3), (3, 3)), ((1, 3), (3, 2)), ((1, 3), (3, 1)), ((1, 3), (3, 1)), ((2, 3), (3, 3)), ((2, 3), (3, 2)), ((2, 3), (3, 1)), ((2, 3), (3, 1)), ((3, 3), (3, 2)), ((3, 3), (3, 1)), ((3, 3), (3, 1)), ((3, 2), (3, 1)), ((3, 2), (3, 1)), ((3, 1), (3, 1))]\n"
     ]
    }
   ],
   "source": [
    "options(2,2)"
   ]
  },
  {
   "cell_type": "code",
   "execution_count": 10,
   "metadata": {
    "cell_id": "7e31951285fb4e979dddd37daeaa7d69",
    "deepnote_cell_type": "code",
    "deepnote_to_be_reexecuted": false,
    "execution_millis": 6,
    "execution_start": 1666663403792,
    "scrolled": false,
    "source_hash": "e66c6833",
    "tags": []
   },
   "outputs": [
    {
     "name": "stdout",
     "output_type": "stream",
     "text": [
      "En (7, 6) está la mina\n"
     ]
    }
   ],
   "source": [
    "options(7,6)"
   ]
  },
  {
   "cell_type": "code",
   "execution_count": 9,
   "metadata": {},
   "outputs": [
    {
     "name": "stdout",
     "output_type": "stream",
     "text": [
      "En (0, 0) es seguro\n"
     ]
    }
   ],
   "source": [
    "options(0,0)"
   ]
  },
  {
   "cell_type": "markdown",
   "metadata": {
    "cell_id": "293de294e75c4099a4086d5da43eaac7",
    "deepnote_cell_type": "text-cell-h2",
    "formattedRanges": [],
    "is_collapsed": false,
    "tags": []
   },
   "source": [
    "## Formalizar las reglas"
   ]
  },
  {
   "cell_type": "markdown",
   "metadata": {
    "cell_id": "fc5a584330604979ad9d8ec08c450bb7",
    "deepnote_cell_type": "text-cell-p",
    "formattedRanges": [],
    "is_collapsed": false,
    "tags": []
   },
   "source": [
    "Definiremos las reglas por medio de lógica proposicional para generalizarlas y así indicar como proceder frente a cada movimiento. "
   ]
  },
  {
   "cell_type": "markdown",
   "metadata": {
    "cell_id": "874ce1ed-4a41-4987-9910-3d1e983aa0d9",
    "deepnote_cell_type": "text-cell-p",
    "formattedRanges": [],
    "is_collapsed": false,
    "tags": []
   },
   "source": [
    "Luego, así como se vio anteriormente, a lo sumo una casilla puede tener 8 minas. "
   ]
  },
  {
   "cell_type": "markdown",
   "metadata": {
    "cell_id": "decf31f9-6d41-455c-b093-bc1c1fb1ba55",
    "deepnote_cell_type": "text-cell-p",
    "formattedRanges": [],
    "is_collapsed": false,
    "tags": []
   },
   "source": [
    "Y el valor de la casilla corresponderá al número de minas adyacentes.  Por ejemplo, consideremos el siguiente ejemplo:"
   ]
  },
  {
   "cell_type": "code",
   "execution_count": 13,
   "metadata": {
    "cell_id": "f4abf2c6f118432993391e1bdb53f274",
    "deepnote_cell_type": "code",
    "deepnote_to_be_reexecuted": false,
    "execution_millis": 3,
    "execution_start": 1666663403799,
    "source_hash": "583bb16f",
    "tags": []
   },
   "outputs": [
    {
     "name": "stdout",
     "output_type": "stream",
     "text": [
      "Para la casilla (1, 7) hay 1 minas. Los posibles lugares donde pueden estar son en [((0, 7),), ((0, 6),), ((1, 6),), ((2, 6),), ((2, 7),)]\n"
     ]
    }
   ],
   "source": [
    "options(1,7)"
   ]
  },
  {
   "cell_type": "markdown",
   "metadata": {
    "cell_id": "a00b0734314748a8956b9208e308abe7",
    "deepnote_cell_type": "text-cell-p",
    "formattedRanges": [],
    "is_collapsed": false,
    "tags": []
   },
   "source": [
    "Luego, para la casilla $(0,7)$ (esquina superior izquierda) contiene una mina. Ahora bien, esto conlleva a que la mina puede estar en la casilla $(0,6)$, $(1,6)$, $(2,6)$, $(2,7)$ o $(0,7)$. Sin embargo, note lo siguiente:"
   ]
  },
  {
   "cell_type": "markdown",
   "metadata": {
    "cell_id": "71f833a1-5063-411d-8282-f07eac5aa3f5",
    "deepnote_cell_type": "text-cell-bullet",
    "formattedRanges": [],
    "is_collapsed": false,
    "tags": []
   },
   "source": [
    "- Si hay una mina en $(1,7)$ pero no hay mina en $(0,6)$ ni en $(1,6)$ ni en $(2,6)$ ni en $(2,7)$ entonces está en $(0,7)$."
   ]
  },
  {
   "cell_type": "markdown",
   "metadata": {},
   "source": [
    "- Si hay una mina en $(1,7)$ pero no hay mina en $(0,7)$ ni en $(1,6)$ ni en $(2,6)$ ni en $(2,7)$ entonces está en $(0,6)$."
   ]
  },
  {
   "cell_type": "markdown",
   "metadata": {},
   "source": [
    "- Si hay una mina en $(1,7)$ pero no hay mina en $(0,7)$ ni en $(0,6)$ ni en $(2,6)$ ni en $(2,7)$ entonces está en $(1,6)$."
   ]
  },
  {
   "cell_type": "markdown",
   "metadata": {
    "cell_id": "5ae2e649-7109-4a87-8022-6fa160462617",
    "deepnote_cell_type": "text-cell-bullet",
    "formattedRanges": [],
    "is_collapsed": false,
    "tags": []
   },
   "source": [
    "- Si hay una mina en $(1,7)$ pero no hay mina en $(0,7)$ ni en $(0,6)$ ni en $(1,6)$ ni en $(2,7)$ entonces está en $(2,6)$."
   ]
  },
  {
   "cell_type": "markdown",
   "metadata": {
    "cell_id": "b054cbd3-ef3b-4561-b934-6142ec922764",
    "deepnote_cell_type": "text-cell-p",
    "formattedRanges": [],
    "is_collapsed": false,
    "tags": []
   },
   "source": [
    "De otra manera podemos decir que si la casilla tiene el número y sabemos donde están las minas correspondientes, entonces los restantes será espacios seguros. Observe:"
   ]
  },
  {
   "cell_type": "markdown",
   "metadata": {
    "cell_id": "0070f38f-311b-4ada-bf10-454711873e1c",
    "deepnote_cell_type": "text-cell-bullet",
    "formattedRanges": [],
    "is_collapsed": false,
    "tags": []
   },
   "source": [
    "- Si hay una mina en $(1,7)$ y hay mina en $(0,6)$, entonces en el resto no habrá."
   ]
  },
  {
   "cell_type": "markdown",
   "metadata": {
    "cell_id": "aae2ca8e-0bc7-404b-8bf0-78cb09e2263c",
    "deepnote_cell_type": "text-cell-p",
    "formattedRanges": [],
    "is_collapsed": false,
    "tags": []
   },
   "source": [
    "Para formalizar esto, se implementarán las reglas en las siguientes funciones:"
   ]
  },
  {
   "cell_type": "code",
   "execution_count": 14,
   "metadata": {
    "cell_id": "5d336430743a4d119b9523204f3f3f2e",
    "deepnote_cell_type": "code",
    "deepnote_to_be_reexecuted": false,
    "execution_millis": 3,
    "execution_start": 1666663403802,
    "source_hash": "dcc7bd6c",
    "tags": []
   },
   "outputs": [],
   "source": [
    "num_filas = len([str(i) for i in range(sz)])\n",
    "num_column = len([str(i) for i in range(sz)])\n",
    "num_info = 9\n",
    "IenCasilla = Descriptor([num_column, num_filas, num_info])"
   ]
  },
  {
   "cell_type": "code",
   "execution_count": 22,
   "metadata": {
    "cell_id": "4797bd334e3b480fbca2e689f76d2f97",
    "deepnote_cell_type": "code",
    "deepnote_to_be_reexecuted": false,
    "execution_millis": 0,
    "execution_start": 1666663403824,
    "source_hash": "ccd30695",
    "tags": []
   },
   "outputs": [],
   "source": [
    "def espacio_seguro_formula(n, size):\n",
    "    formulas = []\n",
    "    casillas = []\n",
    "    for x in range(size):\n",
    "        for y in range(size):\n",
    "            casillas.append((x,y))\n",
    "    for i in casillas:\n",
    "        x, y = i\n",
    "        ady = adyacentes(i, size)\n",
    "        for j in combinations(ady, n):\n",
    "            f = IenCasilla.P([x, y, n])\n",
    "            distintas = []\n",
    "            for k in ady:\n",
    "                if k not in j:\n",
    "                    distintas.append(k)\n",
    "            for r, s in j:\n",
    "                f += 'Y' + IenCasilla.P([r, s, 0])\n",
    "            for r,s in distintas:\n",
    "                formulas.append(f + '>-' + IenCasilla.P([r, s, 0]))\n",
    "    return formulas"
   ]
  },
  {
   "cell_type": "code",
   "execution_count": 23,
   "metadata": {
    "cell_id": "b3f029e55aa2419ab2ea8c30cec5efa8",
    "deepnote_cell_type": "code",
    "deepnote_to_be_reexecuted": false,
    "execution_millis": 1,
    "execution_start": 1666663403824,
    "source_hash": "4b3d5ab6",
    "tags": []
   },
   "outputs": [],
   "source": [
    "def hay_mina_formula(n , size):\n",
    "    formulas = []\n",
    "    casillas = []\n",
    "    for x in range(size):\n",
    "        for y in range(size):\n",
    "            casillas.append((x,y))\n",
    "    for i in casillas:\n",
    "        x, y = i\n",
    "        ady = adyacentes(i, size)\n",
    "        for j in combinations(ady, n):\n",
    "            f = IenCasilla.P([x, y, n])\n",
    "            distintas = []\n",
    "            for k in ady:\n",
    "                if k not in j:\n",
    "                    distintas.append(k)\n",
    "            for r,s in distintas:\n",
    "                f += 'Y-' + IenCasilla.P([r, s, 0])\n",
    "            for r, s in j:\n",
    "                formulas.append(f + '>' + IenCasilla.P([r, s, 0]))\n",
    "    return formulas"
   ]
  },
  {
   "cell_type": "code",
   "execution_count": 24,
   "metadata": {
    "cell_id": "e1688a272f704163afac55948741407b",
    "deepnote_cell_type": "code",
    "deepnote_to_be_reexecuted": false,
    "execution_millis": 4,
    "execution_start": 1666663403860,
    "source_hash": "4c86d275",
    "tags": []
   },
   "outputs": [],
   "source": [
    "def no_hay_mina_formula(n, size):\n",
    "    formulas = []\n",
    "    casillas = []\n",
    "    for x in range(size):\n",
    "        for y in range(size):\n",
    "            casillas.append((x,y))\n",
    "    for i in casillas:\n",
    "        x, y = i\n",
    "        formulas.append(IenCasilla.P([x, y, n]) + '>-' + IenCasilla.P([x, y, 0]))\n",
    "    return formulas\n"
   ]
  },
  {
   "cell_type": "code",
   "execution_count": 40,
   "metadata": {
    "cell_id": "381dc87836af413d80906f3fe346243e",
    "deepnote_cell_type": "code",
    "deepnote_to_be_reexecuted": false,
    "execution_millis": 2917,
    "execution_start": 1666663403871,
    "source_hash": "23127a2d",
    "tags": []
   },
   "outputs": [
    {
     "data": {
      "text/plain": [
       "<Axes:>"
      ]
     },
     "execution_count": 40,
     "metadata": {},
     "output_type": "execute_result"
    },
    {
     "data": {
      "image/png": "[encoded data removed]",
      "text/plain": [
       "<Figure size 240x240 with 1 Axes>"
      ]
     },
     "metadata": {},
     "output_type": "display_data"
    }
   ],
   "source": [
    "bs = Buscaminas()\n",
    "bs.pintar_todo()"
   ]
  },
  {
   "cell_type": "code",
   "execution_count": 41,
   "metadata": {
    "cell_id": "27682decb0e44fc7b64056e6b2394eac",
    "deepnote_cell_type": "code",
    "deepnote_to_be_reexecuted": false,
    "execution_millis": 246,
    "execution_start": 1666663406829,
    "source_hash": "e333831f",
    "tags": []
   },
   "outputs": [
    {
     "data": {
      "text/plain": [
       "<Axes:>"
      ]
     },
     "execution_count": 41,
     "metadata": {},
     "output_type": "execute_result"
    },
    {
     "data": {
      "image/png": "[encoded data removed]",
      "text/plain": [
       "<Figure size 240x240 with 1 Axes>"
      ]
     },
     "metadata": {},
     "output_type": "display_data"
    }
   ],
   "source": [
    "for _ in range(2):\n",
    "    x = random.randint(0, sz-1)\n",
    "    y = random.randint(0, sz-1)\n",
    "    bs.transicion((x,y))\n",
    "bs.pintar_casilla()"
   ]
  },
  {
   "cell_type": "markdown",
   "metadata": {
    "cell_id": "dab405ed793349bab0478cca140af5b7",
    "deepnote_cell_type": "text-cell-h2",
    "formattedRanges": [],
    "is_collapsed": false,
    "tags": []
   },
   "source": [
    "## Implementar el juego"
   ]
  },
  {
   "cell_type": "code",
   "execution_count": 42,
   "metadata": {
    "cell_id": "a1894dadc01e4b499d120298b985678a",
    "deepnote_cell_type": "code",
    "deepnote_to_be_reexecuted": false,
    "execution_millis": 1,
    "execution_start": 1666663407073,
    "source_hash": "fc6b2587",
    "tags": []
   },
   "outputs": [],
   "source": [
    "class Agente:\n",
    "\n",
    "    def __init__(self, bs, descriptor=None):\n",
    "        self.bs = bs\n",
    "        self.base = LPQuery([])\n",
    "        self.desc = descriptor\n",
    "\n",
    "    def perceptos(self):\n",
    "        listreacc = []\n",
    "        for x,y in self.bs.casillas:\n",
    "            if self.bs.tablero[x][y].seleccionado:\n",
    "                if self.bs.flags[x][y] == False:\n",
    "                    if self.bs.tablero[x][y].valor == 0:\n",
    "                        listreacc += ['-' + self.desc.P([x, y, 0])]\n",
    "                    elif self.bs.tablero[x][y].valor == -1:\n",
    "                        listreacc += [self.desc.P([x, y, 0])]\n",
    "                    else:\n",
    "                        listreacc += [self.desc.P([x, y, self.bs.tablero[x][y].valor])]\n",
    "                elif self.bs.flags[x][y]:\n",
    "                    listreacc += [self.desc.P([x, y, 0])]\n",
    "        listreacc = 'Y'.join(listreacc)\n",
    "        return listreacc"
   ]
  },
  {
   "cell_type": "code",
   "execution_count": 43,
   "metadata": {
    "cell_id": "2c59b89e0b21447ea123cf51a09415f7",
    "deepnote_cell_type": "code",
    "deepnote_to_be_reexecuted": false,
    "execution_millis": 1109,
    "execution_start": 1666663407118,
    "source_hash": "be3313d7",
    "tags": []
   },
   "outputs": [],
   "source": [
    "formula_segura1 = espacio_seguro_formula(0, 8)\n",
    "formula_segura2 = espacio_seguro_formula(1, 8)\n",
    "formula_segura3 = espacio_seguro_formula(2, 8)\n",
    "formula_segura4 = espacio_seguro_formula(3, 8)\n",
    "formula_segura5 = espacio_seguro_formula(4, 8)\n",
    "formula_segura6 = espacio_seguro_formula(5, 8)\n",
    "formula_segura7 = espacio_seguro_formula(6, 8)\n",
    "formula_segura8 = espacio_seguro_formula(7, 8)"
   ]
  },
  {
   "cell_type": "code",
   "execution_count": 44,
   "metadata": {
    "cell_id": "c2320c57748c4d37a41c4e48ea7438f0",
    "deepnote_cell_type": "code",
    "deepnote_to_be_reexecuted": true,
    "source_hash": "a269704b",
    "tags": []
   },
   "outputs": [],
   "source": [
    "formula_mina1 = hay_mina_formula(0, 8) \n",
    "formula_mina2 = hay_mina_formula(1, 8) \n",
    "formula_mina3 = hay_mina_formula(2, 8)\n",
    "formula_mina4 = hay_mina_formula(3, 8) \n",
    "formula_mina5 = hay_mina_formula(4, 8)\n",
    "formula_mina6 = hay_mina_formula(5, 8) \n",
    "formula_mina7 = hay_mina_formula(6, 8)\n",
    "formula_mina8 = hay_mina_formula(7, 8)"
   ]
  },
  {
   "cell_type": "code",
   "execution_count": 45,
   "metadata": {
    "cell_id": "91bcd774f01c422b817e86820eb2c03d",
    "deepnote_cell_type": "code",
    "deepnote_to_be_reexecuted": true,
    "source_hash": "2808a2fe",
    "tags": []
   },
   "outputs": [],
   "source": [
    "formula_nomina1 = no_hay_mina_formula(0, 8)\n",
    "formula_nomina2 = no_hay_mina_formula(1, 8)\n",
    "formula_nomina3 = no_hay_mina_formula(2, 8)\n",
    "formula_nomina4 = no_hay_mina_formula(3, 8)\n",
    "formula_nomina5 = no_hay_mina_formula(4, 8)\n",
    "formula_nomina6 = no_hay_mina_formula(5, 8)\n",
    "formula_nomina7 = no_hay_mina_formula(6, 8)\n",
    "formula_nomina8 = no_hay_mina_formula(7, 8)"
   ]
  },
  {
   "cell_type": "code",
   "execution_count": 46,
   "metadata": {
    "cell_id": "097bb44135f44def9be552d622c9a0e9",
    "deepnote_cell_type": "code",
    "deepnote_to_be_reexecuted": true,
    "source_hash": "73543d38",
    "tags": []
   },
   "outputs": [],
   "source": [
    "agent = Agente(bs, descriptor=IenCasilla)\n",
    "agent.base = LPQuery(formula_segura1 + formula_segura2 + formula_segura3 + formula_segura4 + formula_segura5\\\n",
    "                 + formula_segura6 + formula_segura7 + formula_segura8 + formula_mina1 + formula_mina2\\\n",
    "                 + formula_mina3 + formula_mina4 + formula_mina5 + formula_mina6 + formula_mina7 + formula_mina8\\\n",
    "                 + formula_nomina1 + formula_nomina2 + formula_nomina3 + formula_nomina4 + formula_nomina5\\\n",
    "                 + formula_nomina6 + formula_nomina7 + formula_nomina8)"
   ]
  },
  {
   "cell_type": "code",
   "execution_count": 47,
   "metadata": {
    "cell_id": "41b4369074364baf86dc0b51663d0d4e",
    "deepnote_cell_type": "code",
    "deepnote_to_be_reexecuted": true,
    "source_hash": "31e73e97",
    "tags": []
   },
   "outputs": [],
   "source": [
    "perc = agent.perceptos()\n",
    "agent.base.TELL(perc)"
   ]
  },
  {
   "cell_type": "code",
   "execution_count": 48,
   "metadata": {},
   "outputs": [],
   "source": [
    "atoms = []\n",
    "for i in range(sz):\n",
    "    for j in range(sz):\n",
    "        for v in range(sz+1):\n",
    "            atoms.append(agent.desc.P([i, j, v]))\n",
    "            atoms.append('-' + agent.desc.P([i, j, v]))\n",
    "agent.base.atomos = atoms"
   ]
  },
  {
   "cell_type": "code",
   "execution_count": 56,
   "metadata": {},
   "outputs": [],
   "source": [
    "def ASK(objetivo, valor, base, algoritmo):\n",
    "    if algoritmo == 'Forward chaining':\n",
    "        ask = pl_fc_entails(base, objetivo)\n",
    "        return ask"
   ]
  },
  {
   "cell_type": "code",
   "execution_count": 58,
   "metadata": {
    "scrolled": true
   },
   "outputs": [
    {
     "name": "stdout",
     "output_type": "stream",
     "text": [
      "El juego ha terminado.\n",
      "El juego ha terminado.\n",
      "El juego ha terminado.\n"
     ]
    }
   ],
   "source": [
    "casillas = [(x,y) for x in range(sz) for y in range(sz)]\n",
    "for i in casillas:\n",
    "    x, y = i\n",
    "    if bs.tablero[x][y].seleccionado == False:\n",
    "        objetivomina = '-' + agent.desc.P([x,y,0])\n",
    "        seguro = agent.desc.P([x,y,0])\n",
    "        ask1 = ASK(seguro, 'success', agent.base, 'Forward chaining')\n",
    "        ask2 = ASK(objetivomina, 'success', agent.base, 'Forward chaining')\n",
    "        if ask1:\n",
    "            bs.agregar_quitar_bandera(i)\n",
    "        elif ask2:\n",
    "            bs.transicion(i)\n",
    "bs.pintar_casilla()"
   ]
  },
  {
   "cell_type": "code",
   "execution_count": 59,
   "metadata": {},
   "outputs": [
    {
     "data": {
      "text/plain": [
       "<Axes:>"
      ]
     },
     "execution_count": 59,
     "metadata": {},
     "output_type": "execute_result"
    },
    {
     "data": {
      "image/png": "[encoded data removed]",
      "text/plain": [
       "<Figure size 240x240 with 1 Axes>"
      ]
     },
     "metadata": {},
     "output_type": "display_data"
    }
   ],
   "source": [
    "bs.pintar_todo()"
   ]
  }
 ],
 "metadata": {
  "deepnote": {},
  "deepnote_execution_queue": [],
  "deepnote_notebook_id": "4645cfd0920a4cc992aceccb2d868715",
  "kernelspec": {
   "display_name": "Python 3 (ipykernel)",
   "language": "python",
   "name": "python3"
  },
  "language_info": {
   "codemirror_mode": {
    "name": "ipython",
    "version": 3
   },
   "file_extension": ".py",
   "mimetype": "text/x-python",
   "name": "python",
   "nbconvert_exporter": "python",
   "pygments_lexer": "ipython3",
   "version": "3.7.9"
  }
 },
 "nbformat": 4,
 "nbformat_minor": 1
}
