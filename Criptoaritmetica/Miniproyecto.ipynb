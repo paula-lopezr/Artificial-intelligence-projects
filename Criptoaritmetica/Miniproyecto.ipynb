{
 "cells": [
  {
   "cell_type": "markdown",
   "id": "bb110aae",
   "metadata": {
    "id": "bb110aae"
   },
   "source": [
    "## Miniproyecto: Criptoaritmética\n",
    "### _Estudiantes_: Diana Valentina Caro & Paula Lorena López"
   ]
  },
  {
   "cell_type": "markdown",
   "id": "395a5c7b",
   "metadata": {
    "id": "395a5c7b"
   },
   "source": [
    "Se llaman los archivos correspondientes para trabajar con el ambiente de _CriptoAritmetica_. El archivo de _busqueda.py_ contiene los algortimos de búsqueda con los que trabajaremos para hallar el mejor tiempo posible que logre resolver el problema."
   ]
  },
  {
   "cell_type": "code",
   "execution_count": 1,
   "id": "c604dc32",
   "metadata": {
    "id": "c604dc32"
   },
   "outputs": [],
   "source": [
    "from AmbientesMP import CriptoAritmetica\n",
    "from busqueda import *"
   ]
  },
  {
   "cell_type": "markdown",
   "id": "3e07bada",
   "metadata": {
    "id": "3e07bada"
   },
   "source": [
    "Para empezar, se escogen caracteres cortos con el fin de probar los algoritmos y el funcionamiento respectivo del ambiente. De esta manera, se escogen las siguientes palabras y su respectivo resultado (en palabras)."
   ]
  },
  {
   "cell_type": "code",
   "execution_count": 2,
   "id": "7e80de92",
   "metadata": {
    "id": "7e80de92"
   },
   "outputs": [],
   "source": [
    "prob = CriptoAritmetica([\"A\",\"B\",\"CD\"])   "
   ]
  },
  {
   "cell_type": "markdown",
   "id": "99e88abf",
   "metadata": {
    "id": "99e88abf"
   },
   "source": [
    "Se inicializa el problema y se visualiza para entender correctamente. Note que este problema es sencillo. Se obtiene que la suma de dos dígitos debe dar como resultado un número de dos dígitos. "
   ]
  },
  {
   "cell_type": "code",
   "execution_count": 3,
   "id": "ec854cbd",
   "metadata": {
    "colab": {
     "base_uri": "https://localhost:8080/",
     "height": 285
    },
    "id": "ec854cbd",
    "outputId": "50047ec7-ceb3-40f6-c8bb-bdb265c5550d"
   },
   "outputs": [
    {
     "data": {
      "text/plain": [
       "<AxesSubplot:>"
      ]
     },
     "execution_count": 3,
     "metadata": {},
     "output_type": "execute_result"
    },
    {
     "data": {
      "image/png": "[encoded data removed]",
      "text/plain": [
       "<Figure size 360x216 with 1 Axes>"
      ]
     },
     "metadata": {
      "needs_background": "light"
     },
     "output_type": "display_data"
    }
   ],
   "source": [
    "s = prob.estado_inicial\n",
    "prob.pintar_estado(s)"
   ]
  },
  {
   "cell_type": "markdown",
   "id": "4d43d740",
   "metadata": {
    "id": "4d43d740"
   },
   "source": [
    "Una vez establecido lo anterior, podemos evidenciar los posibles dígitos que pueden tomar cada letra. El algoritmo debe encontrar cuales de estas combinaciones cumplen con las reglas establecidas."
   ]
  },
  {
   "cell_type": "markdown",
   "id": "653ee0a5",
   "metadata": {
    "id": "653ee0a5"
   },
   "source": [
    "Observe que el valor de cada letra es independiente del valor de las otras justo antes de iniciar la búsqueda del valor. Una vez inicia el algoritmo y se encuentra el valor de una de ellas, el valor de las otras letras empieza a depender de este primero. "
   ]
  },
  {
   "cell_type": "code",
   "execution_count": 4,
   "id": "54c93c59",
   "metadata": {
    "colab": {
     "base_uri": "https://localhost:8080/"
    },
    "id": "54c93c59",
    "outputId": "876b4950-b6cb-46e5-8cd4-b7db6c108eca",
    "scrolled": true
   },
   "outputs": [
    {
     "data": {
      "text/plain": [
       "37"
      ]
     },
     "execution_count": 4,
     "metadata": {},
     "output_type": "execute_result"
    }
   ],
   "source": [
    "len(prob.acciones_aplicables(s))"
   ]
  },
  {
   "cell_type": "markdown",
   "id": "e0774119",
   "metadata": {
    "id": "e0774119"
   },
   "source": [
    "Por esta razón, existen 37 posibles acciones. Es decir, el algoritmo de búsqueda debe evaluar las combinaciones en las que se resuelva el problema."
   ]
  },
  {
   "cell_type": "code",
   "execution_count": 5,
   "id": "ef7200a5",
   "metadata": {
    "colab": {
     "base_uri": "https://localhost:8080/"
    },
    "id": "ef7200a5",
    "outputId": "280f1573-dcbf-434d-d2c3-856e7d143a1a",
    "scrolled": false
   },
   "outputs": [
    {
     "name": "stdout",
     "output_type": "stream",
     "text": [
      "[('B', 1), ('B', 2), ('B', 3), ('B', 4), ('B', 5), ('B', 6), ('B', 7), ('B', 8), ('B', 9), ('A', 1), ('A', 2), ('A', 3), ('A', 4), ('A', 5), ('A', 6), ('A', 7), ('A', 8), ('A', 9), ('C', 1), ('C', 2), ('C', 3), ('C', 4), ('C', 5), ('C', 6), ('C', 7), ('C', 8), ('C', 9), ('D', 0), ('D', 1), ('D', 2), ('D', 3), ('D', 4), ('D', 5), ('D', 6), ('D', 7), ('D', 8), ('D', 9)]\n"
     ]
    }
   ],
   "source": [
    "print(prob.acciones_aplicables(s))"
   ]
  },
  {
   "cell_type": "markdown",
   "id": "62c76744",
   "metadata": {
    "id": "62c76744"
   },
   "source": [
    "El primer algoritmo con el que se prueba es _breadth first search_. Este se expande desde la raíz, evalúa cada elemento por nivel y así, considera las opciones factibles. Sin embargo, este considera la menor distancia para hallar la respuesta."
   ]
  },
  {
   "cell_type": "code",
   "execution_count": 72,
   "id": "b996d128",
   "metadata": {
    "colab": {
     "base_uri": "https://localhost:8080/"
    },
    "id": "b996d128",
    "outputId": "d03137eb-85c7-4c37-9bba-2b1d87274562"
   },
   "outputs": [
    {
     "name": "stdout",
     "output_type": "stream",
     "text": [
      "El resultado encontrado fue el siguiente:  [('C', 1), ('D', 0), ('B', 2), ('A', 8)]\n",
      "CPU times: user 275 ms, sys: 998 µs, total: 276 ms\n",
      "Wall time: 277 ms\n"
     ]
    }
   ],
   "source": [
    "%%time \n",
    "opc = breadth_first_search(prob)\n",
    "if opc is not None:\n",
    "    res = solucion(opc)\n",
    "    print('El resultado encontrado fue el siguiente: ', res)\n",
    "else:\n",
    "    print(\"No hay solución.\")"
   ]
  },
  {
   "cell_type": "code",
   "execution_count": 73,
   "id": "b1b4788a",
   "metadata": {
    "colab": {
     "base_uri": "https://localhost:8080/",
     "height": 268
    },
    "id": "b1b4788a",
    "outputId": "21910fae-6706-4cad-c140-8a761692ba46"
   },
   "outputs": [
    {
     "data": {
      "image/png": "[encoded data removed]",
      "text/plain": [
       "<Figure size 360x216 with 1 Axes>"
      ]
     },
     "metadata": {
      "needs_background": "light"
     },
     "output_type": "display_data"
    }
   ],
   "source": [
    "prob.pintar_camino(res)"
   ]
  },
  {
   "cell_type": "markdown",
   "id": "072ff5c9",
   "metadata": {
    "id": "072ff5c9"
   },
   "source": [
    "El segundo algoritmo con el que se intentó fue _Depth first search_. Este algoritmo tiene un enfoque diferente. Por esta razón, la respuesta no es la misma dado que no se tienen condiciones iniciales y por lo tanto no es única. Sin embargo, también es correcta. \n",
    "\n",
    "Este algoritmo se enfoca en la búsqueda desde el nodo predecesor hacia el nodo sucesor y luego a su sucesor. Una vez recorre toda la primera rama, regresa al nodo predecesor y sigue con la siguiente rama."
   ]
  },
  {
   "cell_type": "code",
   "execution_count": 74,
   "id": "30bb349e",
   "metadata": {
    "colab": {
     "base_uri": "https://localhost:8080/"
    },
    "id": "30bb349e",
    "outputId": "61f5495a-d34a-4ebe-cf9b-308182669257"
   },
   "outputs": [
    {
     "name": "stdout",
     "output_type": "stream",
     "text": [
      "El resultado encontrado fue el siguiente:  [('A', 9), ('B', 8), ('D', 7), ('C', 1)]\n",
      "CPU times: user 1.74 ms, sys: 0 ns, total: 1.74 ms\n",
      "Wall time: 1.69 ms\n"
     ]
    }
   ],
   "source": [
    "%%time \n",
    "opc2 = depth_first_search(prob)\n",
    "if opc2 is not None:\n",
    "    res2 = solucion(opc2)\n",
    "    print('El resultado encontrado fue el siguiente: ', res2)\n",
    "else:\n",
    "    print(\"No hay solución.\")"
   ]
  },
  {
   "cell_type": "code",
   "execution_count": 75,
   "id": "c0d74d5e",
   "metadata": {
    "colab": {
     "base_uri": "https://localhost:8080/",
     "height": 268
    },
    "id": "c0d74d5e",
    "outputId": "09063e0e-b495-4c93-cee6-2eac6ea4568e",
    "scrolled": true
   },
   "outputs": [
    {
     "data": {
      "image/png": "[encoded data removed]",
      "text/plain": [
       "<Figure size 360x216 with 1 Axes>"
      ]
     },
     "metadata": {
      "needs_background": "light"
     },
     "output_type": "display_data"
    }
   ],
   "source": [
    "prob.pintar_camino(res2)"
   ]
  },
  {
   "cell_type": "markdown",
   "id": "f580d196",
   "metadata": {
    "id": "f580d196"
   },
   "source": [
    "El tercer algoritmo con el que se prueba es _Best first search_. También llamado Dijkstra, es similar al _Depth_. Se revisa el primer nodo y se expande por la frontera. Para este algoritmo, se utilizará la función de _costo uniforme_. Esta función correspondería a la heurística dado que se tiene en cuenta una condición para hallar el resultado.\n",
    "\n",
    "La función de costo uniforme le dará un valor de $1$ por cada acción que tome. De esta manera, encontrará el camino más corto en donde se satisfaga las condiciones.\n"
   ]
  },
  {
   "cell_type": "code",
   "execution_count": 6,
   "id": "67d687c8",
   "metadata": {
    "id": "67d687c8"
   },
   "outputs": [],
   "source": [
    "def costo_uniforme(self, estado, accion):\n",
    "    return 1"
   ]
  },
  {
   "cell_type": "code",
   "execution_count": 10,
   "id": "6566ce82",
   "metadata": {
    "colab": {
     "base_uri": "https://localhost:8080/"
    },
    "id": "6566ce82",
    "outputId": "0d3143cf-77bc-4324-90b8-fc6d1e6038db"
   },
   "outputs": [
    {
     "name": "stdout",
     "output_type": "stream",
     "text": [
      "El resultado encontrado fue el siguiente:  [('C', 1), ('B', 9), ('D', 2), ('A', 3)]\n",
      "Wall time: 310 ms\n"
     ]
    }
   ],
   "source": [
    "%%time \n",
    "opc3 = best_first_search(prob, costo_uniforme)\n",
    "if opc3 is not None:\n",
    "    res3 = solucion(opc3)\n",
    "    print('El resultado encontrado fue el siguiente: ', res3)\n",
    "else:\n",
    "    print(\"No hay solución.\")"
   ]
  },
  {
   "cell_type": "code",
   "execution_count": 11,
   "id": "ad11c923",
   "metadata": {
    "colab": {
     "base_uri": "https://localhost:8080/",
     "height": 311
    },
    "id": "ad11c923",
    "outputId": "9ccb051b-f7a3-4c14-ef5f-646cf60ab82d"
   },
   "outputs": [
    {
     "data": {
      "image/png": "[encoded data removed]",
      "text/plain": [
       "<Figure size 360x216 with 1 Axes>"
      ]
     },
     "metadata": {
      "needs_background": "light"
     },
     "output_type": "display_data"
    }
   ],
   "source": [
    "prob.pintar_camino(res3)"
   ]
  },
  {
   "cell_type": "markdown",
   "id": "5be55b6f",
   "metadata": {
    "id": "5be55b6f"
   },
   "source": [
    "Aunque el ejemplo es básico, note que en términos de tiempo hay unos algortimos que son mejores que otros. "
   ]
  },
  {
   "cell_type": "markdown",
   "id": "36bb6bd1",
   "metadata": {
    "id": "36bb6bd1"
   },
   "source": [
    "\n",
    "|  Algoritmo| Tiempo| |\n",
    "| :---: | :---: | :---: |\n",
    "| Breadth first search | 277 ms |\n",
    "| Depth first search | 1.69 ms |\n",
    "| Best first search | 278 ms |\n"
   ]
  },
  {
   "cell_type": "markdown",
   "id": "7a1c696d",
   "metadata": {
    "id": "7a1c696d"
   },
   "source": [
    "Sin embargo, es un ejemplo muy básico y la solución es fácil de encontrar. Por esta razón se decide incrementar la complejidad eligiendo un texto más largo. Se siguen teniendo las mismas reglas del problema."
   ]
  },
  {
   "cell_type": "code",
   "execution_count": 14,
   "id": "00948011",
   "metadata": {
    "id": "00948011",
    "scrolled": false
   },
   "outputs": [
    {
     "data": {
      "text/plain": [
       "<AxesSubplot:>"
      ]
     },
     "execution_count": 14,
     "metadata": {},
     "output_type": "execute_result"
    },
    {
     "data": {
      "image/png": "[encoded data removed]",
      "text/plain": [
       "<Figure size 360x216 with 1 Axes>"
      ]
     },
     "metadata": {
      "needs_background": "light"
     },
     "output_type": "display_data"
    }
   ],
   "source": [
    "prob2 = CriptoAritmetica(['SEND', 'MORE', 'MONEY'])\n",
    "s2 = prob2.estado_inicial\n",
    "prob2.pintar_estado(s2)"
   ]
  },
  {
   "cell_type": "code",
   "execution_count": 15,
   "id": "25d7d5a2",
   "metadata": {
    "id": "25d7d5a2",
    "scrolled": true
   },
   "outputs": [
    {
     "name": "stdout",
     "output_type": "stream",
     "text": [
      "[('S', 1), ('S', 2), ('S', 3), ('S', 4), ('S', 5), ('S', 6), ('S', 7), ('S', 8), ('S', 9), ('N', 0), ('N', 1), ('N', 2), ('N', 3), ('N', 4), ('N', 5), ('N', 6), ('N', 7), ('N', 8), ('N', 9), ('E', 0), ('E', 1), ('E', 2), ('E', 3), ('E', 4), ('E', 5), ('E', 6), ('E', 7), ('E', 8), ('E', 9), ('Y', 0), ('Y', 1), ('Y', 2), ('Y', 3), ('Y', 4), ('Y', 5), ('Y', 6), ('Y', 7), ('Y', 8), ('Y', 9), ('O', 0), ('O', 1), ('O', 2), ('O', 3), ('O', 4), ('O', 5), ('O', 6), ('O', 7), ('O', 8), ('O', 9), ('R', 0), ('R', 1), ('R', 2), ('R', 3), ('R', 4), ('R', 5), ('R', 6), ('R', 7), ('R', 8), ('R', 9), ('M', 1), ('M', 2), ('M', 3), ('M', 4), ('M', 5), ('M', 6), ('M', 7), ('M', 8), ('M', 9), ('D', 0), ('D', 1), ('D', 2), ('D', 3), ('D', 4), ('D', 5), ('D', 6), ('D', 7), ('D', 8), ('D', 9)]\n"
     ]
    }
   ],
   "source": [
    "print(prob2.acciones_aplicables(s2))"
   ]
  },
  {
   "cell_type": "markdown",
   "id": "b805c002",
   "metadata": {
    "id": "b805c002"
   },
   "source": [
    "Note que en este ejemplos, las posibles combinaciones incrementan considerablemente. Esto nos puede dar una pista del tiempo que puede tardar el algoritmo en encontrar una solución.\n"
   ]
  },
  {
   "cell_type": "code",
   "execution_count": 16,
   "id": "fc3faf17",
   "metadata": {
    "id": "fc3faf17"
   },
   "outputs": [
    {
     "data": {
      "text/plain": [
       "78"
      ]
     },
     "execution_count": 16,
     "metadata": {},
     "output_type": "execute_result"
    }
   ],
   "source": [
    "len(prob2.acciones_aplicables(s2))"
   ]
  },
  {
   "cell_type": "code",
   "execution_count": 20,
   "id": "e17700f5",
   "metadata": {
    "colab": {
     "base_uri": "https://localhost:8080/"
    },
    "id": "e17700f5",
    "outputId": "88167410-8bbe-44c7-b96d-0522b919ff0d",
    "scrolled": true
   },
   "outputs": [
    {
     "name": "stdout",
     "output_type": "stream",
     "text": [
      "El resultado encontrado fue el siguiente:  [('E', 5), ('D', 7), ('R', 8), ('Y', 2), ('O', 0), ('N', 6), ('S', 9), ('M', 1)]\n",
      "CPU times: user 22min 6s, sys: 6.44 s, total: 22min 13s\n",
      "Wall time: 22min 14s\n"
     ]
    }
   ],
   "source": [
    "%%time \n",
    "opc = best_first_search(prob2, costo_uniforme)\n",
    "if opc is not None:\n",
    "    res = solucion(opc)\n",
    "    print('El resultado encontrado fue el siguiente: ', res)\n",
    "else:\n",
    "    print(\"No hay solución.\")"
   ]
  },
  {
   "cell_type": "code",
   "execution_count": 21,
   "id": "c956b48e",
   "metadata": {
    "colab": {
     "base_uri": "https://localhost:8080/",
     "height": 268
    },
    "id": "c956b48e",
    "outputId": "f8e447f1-eb67-4bf3-9ce8-cfbab8247888"
   },
   "outputs": [
    {
     "data": {
      "image/png": "[encoded data removed]",
      "text/plain": [
       "<Figure size 360x216 with 1 Axes>"
      ]
     },
     "metadata": {
      "needs_background": "light"
     },
     "output_type": "display_data"
    }
   ],
   "source": [
    "prob2.pintar_camino(res)"
   ]
  },
  {
   "cell_type": "markdown",
   "id": "524b9c52",
   "metadata": {
    "id": "524b9c52"
   },
   "source": [
    "Computacionalmente, el algoritmo de Dijkstra es uno de los mejores. Por esta razón se decidió probarlo. Dado que no se tiene niguna regla inicial, el algoritmo tardó bastante tiempo. \n",
    "Sin embargo, se puede evidenciar que el resultado es correcto y satisface las condiciones principales del problema."
   ]
  },
  {
   "cell_type": "markdown",
   "id": "95182632",
   "metadata": {
    "id": "95182632"
   },
   "source": [
    "No obstante, se puede mejorar este tiempo teniendo en cuenta ciertas condiciones iniciales. Dado que ya tenemos el resultado de lol anterior algortimo, se puede implementar y el tiempo podría disminuir. Se observará el comportamiento de diferentes algoritmos con diferentes condiciones iniciales."
   ]
  },
  {
   "cell_type": "code",
   "execution_count": 17,
   "id": "b99d970d",
   "metadata": {
    "id": "b99d970d"
   },
   "outputs": [],
   "source": [
    "prob2 = CriptoAritmetica(['SEND', 'MORE', 'MONEY'])\n",
    "s2 = prob2.estado_inicial\n",
    "s2['E']= 5\n",
    "s2['N']= 6"
   ]
  },
  {
   "cell_type": "code",
   "execution_count": 18,
   "id": "8b136f26",
   "metadata": {
    "colab": {
     "base_uri": "https://localhost:8080/",
     "height": 268
    },
    "id": "8b136f26",
    "outputId": "71ba47ab-7bd7-4a34-8100-a4052d5c565e"
   },
   "outputs": [
    {
     "data": {
      "image/png": "[encoded data removed]",
      "text/plain": [
       "<Figure size 360x216 with 1 Axes>"
      ]
     },
     "metadata": {
      "needs_background": "light"
     },
     "output_type": "display_data"
    }
   ],
   "source": [
    "prob2.pintar_camino(s2)"
   ]
  },
  {
   "cell_type": "markdown",
   "id": "ad7d4a88",
   "metadata": {
    "id": "ad7d4a88"
   },
   "source": [
    "Una vez realizada la incialización, en _s2_ queda guardado y a partir de ahí se encuentra la solución."
   ]
  },
  {
   "cell_type": "code",
   "execution_count": 84,
   "id": "fa7a3786",
   "metadata": {
    "colab": {
     "base_uri": "https://localhost:8080/"
    },
    "id": "fa7a3786",
    "outputId": "c97e9a21-bb4a-4b4a-e6e4-db22abba5d76"
   },
   "outputs": [
    {
     "name": "stdout",
     "output_type": "stream",
     "text": [
      "El resultado encontrado fue el siguiente:  [('R', 8), ('D', 7), ('O', 0), ('Y', 2), ('S', 9), ('M', 1)]\n",
      "CPU times: user 7.14 s, sys: 23 ms, total: 7.17 s\n",
      "Wall time: 7.17 s\n"
     ]
    }
   ],
   "source": [
    "%%time\n",
    "opc3 = best_first_search(prob2, costo_uniforme)\n",
    "if opc3 is not None:\n",
    "    res3 = solucion(opc3)\n",
    "    print('El resultado encontrado fue el siguiente: ', res3)\n",
    "else:\n",
    "    print('No hay solución.')"
   ]
  },
  {
   "cell_type": "code",
   "execution_count": 85,
   "id": "59216d10",
   "metadata": {
    "colab": {
     "base_uri": "https://localhost:8080/",
     "height": 268
    },
    "id": "59216d10",
    "outputId": "9fdd3f2c-8840-44ef-f016-ffcd51c25945",
    "scrolled": true
   },
   "outputs": [
    {
     "data": {
      "image/png": "[encoded data removed]",
      "text/plain": [
       "<Figure size 360x216 with 1 Axes>"
      ]
     },
     "metadata": {
      "needs_background": "light"
     },
     "output_type": "display_data"
    }
   ],
   "source": [
    "res3 += [('E', 5), ('N', 6)]\n",
    "prob2.pintar_camino(res3)"
   ]
  },
  {
   "cell_type": "markdown",
   "id": "5-k1AB1oAEtD",
   "metadata": {
    "id": "5-k1AB1oAEtD"
   },
   "source": [
    "Note la diferencia de tiempo ejecutando el mismo algoritmo. Su diferencia son las condiciones iniciales. Y el orden en el cual se encuentran las correspondencias. Este orden está ligado a  la búsqueda que hace y cada nodo que va encontrando. Es decir, si camino.\n",
    "\n",
    "Sin embargo, se probarán los demás algoritmos."
   ]
  },
  {
   "cell_type": "markdown",
   "id": "8a95a4e8",
   "metadata": {
    "id": "8a95a4e8"
   },
   "source": [
    "Dado que uno de los mejores tiempos obtenidos en el anterior ejemplo fue _depth first search_, se decide probar en este ejemplo para ver la variación de tiempo y de respuesta."
   ]
  },
  {
   "cell_type": "markdown",
   "id": "lBJefhIxAzlu",
   "metadata": {
    "id": "lBJefhIxAzlu"
   },
   "source": [
    "Ingresamos un condición inicial más para apoyar al algoritmo en su búsqueda."
   ]
  },
  {
   "cell_type": "code",
   "execution_count": 19,
   "id": "BWoGFePIeSxE",
   "metadata": {
    "id": "BWoGFePIeSxE"
   },
   "outputs": [],
   "source": [
    "prob2 = CriptoAritmetica(['SEND', 'MORE', 'MONEY'])\n",
    "s2 = prob2.estado_inicial\n",
    "s2['E']= 5\n",
    "s2['N']= 6\n",
    "s2['M']= 1"
   ]
  },
  {
   "cell_type": "code",
   "execution_count": 87,
   "id": "hHu8ZCK2dyJD",
   "metadata": {
    "colab": {
     "base_uri": "https://localhost:8080/"
    },
    "id": "hHu8ZCK2dyJD",
    "outputId": "8951e0f0-5e11-4c62-cceb-88479943a014"
   },
   "outputs": [
    {
     "name": "stdout",
     "output_type": "stream",
     "text": [
      "El resultado encontrado fue el siguiente:  [('S', 9), ('O', 0), ('R', 8), ('Y', 2), ('D', 7)]\n",
      "CPU times: user 57.7 ms, sys: 0 ns, total: 57.7 ms\n",
      "Wall time: 59.7 ms\n"
     ]
    }
   ],
   "source": [
    "%%time\n",
    "opc5 = depth_first_search(prob2)\n",
    "if opc5 is not None:\n",
    "    res5 = solucion(opc5)\n",
    "    print('El resultado encontrado fue el siguiente: ', res5)\n",
    "else:\n",
    "    print('No hay solución.')"
   ]
  },
  {
   "cell_type": "code",
   "execution_count": 88,
   "id": "CMH6w1JPeUQI",
   "metadata": {
    "colab": {
     "base_uri": "https://localhost:8080/",
     "height": 268
    },
    "id": "CMH6w1JPeUQI",
    "outputId": "e71e4b22-e7ff-43ca-f5bd-9c47d83b7823"
   },
   "outputs": [
    {
     "data": {
      "image/png": "[encoded data removed]",
      "text/plain": [
       "<Figure size 360x216 with 1 Axes>"
      ]
     },
     "metadata": {
      "needs_background": "light"
     },
     "output_type": "display_data"
    }
   ],
   "source": [
    "res5 += [('E', 5), ('N', 6), ('M', 1)]\n",
    "prob2.pintar_camino(res5)"
   ]
  },
  {
   "cell_type": "markdown",
   "id": "OTcwABHTCElu",
   "metadata": {
    "id": "OTcwABHTCElu"
   },
   "source": [
    "Con las condiciones iniciales, los algoritmos son óptimos pues el tiempo de ejecución es realmente bueno para este tipo de palabras. Aunque la respuesta fue la misma, y las condiciones iniciales están ligadas a la respuesta, el orden en el cual fue encontrada es distinto. Esto se puede ver en esta última parte.\n",
    "\n",
    "Con las mismas condiciones, se prueba el algoritmo óptimo del anterior ejemplo."
   ]
  },
  {
   "cell_type": "code",
   "execution_count": 20,
   "id": "31VqooyDddmb",
   "metadata": {
    "id": "31VqooyDddmb"
   },
   "outputs": [],
   "source": [
    "prob2 = CriptoAritmetica(['SEND', 'MORE', 'MONEY'])\n",
    "s2 = prob2.estado_inicial\n",
    "s2['E']= 5\n",
    "s2['N']= 6\n",
    "s2['M']= 1"
   ]
  },
  {
   "cell_type": "code",
   "execution_count": 90,
   "id": "f56d009e",
   "metadata": {
    "colab": {
     "base_uri": "https://localhost:8080/"
    },
    "id": "f56d009e",
    "outputId": "68154b11-1e32-4d5f-e1f9-b684e3d6efd0"
   },
   "outputs": [
    {
     "name": "stdout",
     "output_type": "stream",
     "text": [
      "El resultado encontrado fue el siguiente:  [('D', 7), ('Y', 2), ('R', 8), ('O', 0), ('S', 9)]\n",
      "CPU times: user 25 s, sys: 142 ms, total: 25.1 s\n",
      "Wall time: 25.1 s\n"
     ]
    }
   ],
   "source": [
    "%%time\n",
    "opc4 = breadth_first_search(prob2)\n",
    "if opc4 is not None:\n",
    "    res4 = solucion(opc4)\n",
    "    print('El resultado encontrado fue el siguiente: ', res4)\n",
    "else:\n",
    "    print('No hay solución.')"
   ]
  },
  {
   "cell_type": "code",
   "execution_count": 91,
   "id": "76331fee",
   "metadata": {
    "colab": {
     "base_uri": "https://localhost:8080/",
     "height": 268
    },
    "id": "76331fee",
    "outputId": "b00f0b61-d380-4444-f0bd-f34eafd7bb35"
   },
   "outputs": [
    {
     "data": {
      "image/png": "[encoded data removed]",
      "text/plain": [
       "<Figure size 360x216 with 1 Axes>"
      ]
     },
     "metadata": {
      "needs_background": "light"
     },
     "output_type": "display_data"
    }
   ],
   "source": [
    "res4 += [('E', 5), ('N', 6), ('M', 1)]\n",
    "prob2.pintar_camino(res4)"
   ]
  },
  {
   "cell_type": "markdown",
   "id": "jyNY_TtlC4_q",
   "metadata": {
    "id": "jyNY_TtlC4_q"
   },
   "source": [
    "\n",
    "| Algoritmo |Tiempo | Condiciones | |\n",
    "| :---: | :---: | :---: |:---: |\n",
    "| Breadth first search | 25.1 s | Sí|\n",
    "| Depth first search | 59.7 ms | Sí|\n",
    "| Best first search | 7.17 s | Sí|\n",
    "| Best first search | 22.14 min | No|"
   ]
  },
  {
   "cell_type": "markdown",
   "id": "OwQKIQJWSw7N",
   "metadata": {
    "id": "OwQKIQJWSw7N"
   },
   "source": [
    "- Se ejecutaron diferentes algoritmos para encontrar cual es la mejor búsqueda. Sin embargo, los resultados dependen de la complejidad del problema. \n",
    "\n",
    "- De igual forma, los problemas de Criptoaritmética se pueden solucionar con los tres algoritmos de búsqueda utilizados.\n",
    "\n",
    "- El mejor algoritmo es el _best first search_, dado que fue el único que ejecutó en un considerable tiempo. No fue muy óptimo, sin embargo, al no tener condiciones iniciales, lcompletó la solución del problema. Se intentó con los otros algoritmos pero el tiempo fue realmente lento.\n",
    "\n",
    "- Por otro lado, si se tienen condiciones iniciales, los algoritmos serán mucho más rápidos. Teniendo en cuenta los resultados, los algortimos de _best first search_  y _depth first search_ fueron los más óptimos en estos casos."
   ]
  }
 ],
 "metadata": {
  "accelerator": "GPU",
  "colab": {
   "name": "Untitled.ipynb",
   "provenance": []
  },
  "gpuClass": "standard",
  "kernelspec": {
   "display_name": "Python 3 (ipykernel)",
   "language": "python",
   "name": "python3"
  },
  "language_info": {
   "codemirror_mode": {
    "name": "ipython",
    "version": 3
   },
   "file_extension": ".py",
   "mimetype": "text/x-python",
   "name": "python",
   "nbconvert_exporter": "python",
   "pygments_lexer": "ipython3",
   "version": "3.7.9"
  }
 },
 "nbformat": 4,
 "nbformat_minor": 5
}
